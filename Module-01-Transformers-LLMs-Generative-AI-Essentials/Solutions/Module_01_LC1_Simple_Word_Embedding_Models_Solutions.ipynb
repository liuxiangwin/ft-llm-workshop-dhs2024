{
 "cells": [
  {
   "cell_type": "markdown",
   "metadata": {
    "id": "JS9QXHRoRiqc"
   },
   "source": [
    "# Text Representation with Word Embeddings\n",
    "\n",
    "### Exploring Word Embeddings with New Deep Learning Models\n",
    "\n",
    "We will explore more sophisticated models which can capture semantic information and give us features which are vector representation of words, popularly known as embeddings.\n",
    "\n",
    "Here we will explore the following feature engineering techniques:\n",
    "\n",
    "- Word2Vec\n",
    "\n",
    "Predictive methods like Neural Network based language models try to predict words from its neighboring words looking at word sequences in the corpus and in the process it learns distributed representations giving us dense word embeddings. We will be focusing on these predictive methods in this article."
   ]
  },
  {
   "cell_type": "markdown",
   "metadata": {
    "id": "wYUGSn3dRiqd"
   },
   "source": [
    "## Prepare a Sample Corpus\n",
    "\n",
    "Let’s now take a sample corpus of documents on which we will run most of our analyses in this article. A corpus is typically a collection of text documents usually belonging to one or more subjects or domains."
   ]
  },
  {
   "cell_type": "code",
   "execution_count": 1,
   "metadata": {
    "colab": {
     "base_uri": "https://localhost:8080/",
     "height": 237
    },
    "id": "KH4ZwBgtRiqe",
    "outputId": "0c1cf913-62a8-433d-f357-8bfe7a22aada"
   },
   "outputs": [
    {
     "data": {
      "text/html": [
       "<div>\n",
       "<style scoped>\n",
       "    .dataframe tbody tr th:only-of-type {\n",
       "        vertical-align: middle;\n",
       "    }\n",
       "\n",
       "    .dataframe tbody tr th {\n",
       "        vertical-align: top;\n",
       "    }\n",
       "\n",
       "    .dataframe thead th {\n",
       "        text-align: right;\n",
       "    }\n",
       "</style>\n",
       "<table border=\"1\" class=\"dataframe\">\n",
       "  <thead>\n",
       "    <tr style=\"text-align: right;\">\n",
       "      <th></th>\n",
       "      <th>Document</th>\n",
       "    </tr>\n",
       "  </thead>\n",
       "  <tbody>\n",
       "    <tr>\n",
       "      <th>0</th>\n",
       "      <td>The sky is blue and beautiful.</td>\n",
       "    </tr>\n",
       "    <tr>\n",
       "      <th>1</th>\n",
       "      <td>Love this blue and beautiful sky!</td>\n",
       "    </tr>\n",
       "    <tr>\n",
       "      <th>2</th>\n",
       "      <td>The birds love to eat and sleep and chirp</td>\n",
       "    </tr>\n",
       "    <tr>\n",
       "      <th>3</th>\n",
       "      <td>The cats love to eat and sleep</td>\n",
       "    </tr>\n",
       "    <tr>\n",
       "      <th>4</th>\n",
       "      <td>The sky is very blue and the sky is very beautiful today</td>\n",
       "    </tr>\n",
       "    <tr>\n",
       "      <th>5</th>\n",
       "      <td>The dog loves to sleep and eat</td>\n",
       "    </tr>\n",
       "  </tbody>\n",
       "</table>\n",
       "</div>"
      ],
      "text/plain": [
       "                                                   Document\n",
       "0                            The sky is blue and beautiful.\n",
       "1                         Love this blue and beautiful sky!\n",
       "2                 The birds love to eat and sleep and chirp\n",
       "3                            The cats love to eat and sleep\n",
       "4  The sky is very blue and the sky is very beautiful today\n",
       "5                            The dog loves to sleep and eat"
      ]
     },
     "execution_count": 1,
     "metadata": {},
     "output_type": "execute_result"
    }
   ],
   "source": [
    "import pandas as pd\n",
    "import numpy as np\n",
    "import matplotlib.pyplot as plt\n",
    "\n",
    "# visualize embeddings\n",
    "from sklearn.decomposition import PCA\n",
    "\n",
    "pd.options.display.max_colwidth = 200\n",
    "\n",
    "corpus = ['The sky is blue and beautiful.',\n",
    "          'Love this blue and beautiful sky!',\n",
    "          'The birds love to eat and sleep and chirp',\n",
    "          'The cats love to eat and sleep',\n",
    "          'The sky is very blue and the sky is very beautiful today',\n",
    "          'The dog loves to sleep and eat'\n",
    "]\n",
    "\n",
    "\n",
    "corpus_df = pd.DataFrame({'Document': corpus})\n",
    "corpus_df"
   ]
  },
  {
   "cell_type": "markdown",
   "metadata": {
    "id": "FLojJzK0Riqi"
   },
   "source": [
    "Let's go ahead and pre-process our text data now"
   ]
  },
  {
   "cell_type": "markdown",
   "metadata": {
    "id": "7KR8w3qbRiqi"
   },
   "source": [
    "## Simple Text Pre-processing\n",
    "\n",
    "Since the focus of this unit is on feature engineering, we will build a simple text pre-processor which focuses on removing special characters, extra whitespaces, digits, stopwords and lower casing the text corpus."
   ]
  },
  {
   "cell_type": "code",
   "execution_count": 2,
   "metadata": {
    "colab": {
     "base_uri": "https://localhost:8080/"
    },
    "id": "5YHHrL7VRiqj",
    "outputId": "04c20aec-ef52-4ff1-96b1-765f7cac08f8"
   },
   "outputs": [
    {
     "name": "stderr",
     "output_type": "stream",
     "text": [
      "[nltk_data] Downloading package stopwords to /opt/app-\n",
      "[nltk_data]     root/src/nltk_data...\n",
      "[nltk_data]   Package stopwords is already up-to-date!\n",
      "[nltk_data] Downloading package punkt to /opt/app-\n",
      "[nltk_data]     root/src/nltk_data...\n",
      "[nltk_data]   Package punkt is already up-to-date!\n"
     ]
    },
    {
     "data": {
      "text/plain": [
       "array(['sky blue beautiful', 'love blue beautiful sky',\n",
       "       'birds love eat sleep chirp', 'cats love eat sleep',\n",
       "       'sky blue sky beautiful today', 'dog loves sleep eat'],\n",
       "      dtype='<U28')"
      ]
     },
     "execution_count": 2,
     "metadata": {},
     "output_type": "execute_result"
    }
   ],
   "source": [
    "import nltk\n",
    "import re\n",
    "\n",
    "# get list of common english stopwords\n",
    "nltk.download('stopwords')\n",
    "stop_words = nltk.corpus.stopwords.words('english')\n",
    "# download tokenizer - breaks down sentences into words\n",
    "nltk.download('punkt')\n",
    "\n",
    "# clean the text (not necessary too much in the case of deep learning models)\n",
    "def normalize_document(doc): # The sky is blue and beautiful......\n",
    "    # lower case and remove special characters\\ extra whitespaces\n",
    "    doc = re.sub(r'[^a-zA-Z\\s]', '', doc, flags=re.I|re.A)\n",
    "    doc = doc.lower()\n",
    "    doc = doc.strip()\n",
    "    # tokenize document\n",
    "    tokens = nltk.word_tokenize(doc)\n",
    "    # filter stopwords out of document\n",
    "    filtered_tokens = [token for token in tokens if token not in stop_words]\n",
    "    # re-create document from filtered tokens\n",
    "    doc = ' '.join(filtered_tokens)\n",
    "    return doc\n",
    "\n",
    "normalize_corpus = np.vectorize(normalize_document)\n",
    "\n",
    "norm_corpus = normalize_corpus(corpus)\n",
    "norm_corpus"
   ]
  },
  {
   "cell_type": "code",
   "execution_count": 3,
   "metadata": {
    "id": "4MRWsCnGVyMi"
   },
   "outputs": [],
   "source": [
    "import nltk\n",
    "\n",
    "tokenized_corpus = [nltk.word_tokenize(doc) for doc in norm_corpus]"
   ]
  },
  {
   "cell_type": "code",
   "execution_count": 4,
   "metadata": {
    "colab": {
     "base_uri": "https://localhost:8080/"
    },
    "id": "8BnB1TkIytRz",
    "outputId": "d7a77030-6a21-44b3-e2dd-0d01eefa62b3"
   },
   "outputs": [
    {
     "data": {
      "text/plain": [
       "[['sky', 'blue', 'beautiful'],\n",
       " ['love', 'blue', 'beautiful', 'sky'],\n",
       " ['birds', 'love', 'eat', 'sleep', 'chirp'],\n",
       " ['cats', 'love', 'eat', 'sleep'],\n",
       " ['sky', 'blue', 'sky', 'beautiful', 'today'],\n",
       " ['dog', 'loves', 'sleep', 'eat']]"
      ]
     },
     "execution_count": 4,
     "metadata": {},
     "output_type": "execute_result"
    }
   ],
   "source": [
    "tokenized_corpus"
   ]
  },
  {
   "cell_type": "markdown",
   "metadata": {
    "id": "2JCyCJ6GRiql"
   },
   "source": [
    "## The Word2Vec Model\n",
    "\n",
    "This model was created by Google in 2013 and is a predictive deep learning based model to compute and generate high quality, distributed and continuous dense vector representations of words, which capture contextual and semantic similarity. Essentially these are unsupervised models which can take in massive textual corpora, create a vocabulary of possible words and generate dense word embeddings for each word in the vector space representing that vocabulary.\n",
    "\n",
    "Usually you can specify the size of the word embedding vectors and the total number of vectors are essentially the size of the vocabulary. This makes the dimensionality of this dense vector space much lower than the high-dimensional sparse vector space built using traditional Bag of Words models.\n",
    "\n",
    "There are two different model architectures which can be leveraged by Word2Vec to create these word embedding representations. These include,\n",
    "\n",
    "- The Continuous Bag of Words (CBOW) Model\n",
    "- The Skip-gram Model\n",
    "\n",
    "## The Continuous Bag of Words (CBOW) Model\n",
    "\n",
    "The CBOW model architecture tries to predict the current target word (the center word) based on the source context words (surrounding words).\n",
    "\n",
    "Considering a simple sentence, ___“the quick brown fox jumps over the lazy dog”___, this can be pairs of __(context_window, target_word)__ where if we consider a context window of size 2, we have examples like __([quick, fox], brown)__, __([the, brown], quick)__, __([the, dog], lazy)__ and so on.\n",
    "\n",
    "Thus the model tries to predict the __`target_word`__ based on the __`context_window`__ words.\n",
    "\n",
    "![](https://i.imgur.com/ATyNx6u.png)\n",
    "\n",
    "\n",
    "## The Skip-gram Model\n",
    "\n",
    "The Skip-gram model architecture usually tries to achieve the reverse of what the CBOW model does. It tries to predict the source context words (surrounding words) given a target word (the center word).\n",
    "\n",
    "Considering our simple sentence from earlier, ___“the quick brown fox jumps over the lazy dog”___. If we used the CBOW model, we get pairs of __(context_window, target_word)__ where if we consider a context window of size 2, we have examples like __([quick, fox], brown)__, __([the, brown], quick)__, __([the, dog], lazy)__ and so on.\n",
    "\n",
    "Now considering that the skip-gram model’s aim is to predict the context from the target word, the model typically inverts the contexts and targets, and tries to predict each context word from its target word. Hence the task becomes to predict the context __[quick, fox]__ given target word __‘brown’__ or __[the, brown]__ given target word __‘quick’__ and so on.\n",
    "\n",
    "Thus the model tries to predict the context_window words based on the target_word.\n",
    "\n",
    "![](https://i.imgur.com/95f3eVF.png)\n",
    "\n",
    "Further details can be found in [Text Analytics with Python](https://github.com/dipanjanS/text-analytics-with-python/tree/master/New-Second-Edition/Ch04%20-%20Feature%20Engineering%20for%20Text%20Representation)"
   ]
  },
  {
   "cell_type": "markdown",
   "metadata": {
    "id": "BHD8pUx7Riqm"
   },
   "source": [
    "## Robust Word2Vec Model with Gensim\n",
    "\n",
    "The __`gensim`__ framework, created by Radim Řehůřek consists of a robust, efficient and scalable implementation of the Word2Vec model. We will leverage the same on our sample toy corpus. In our workflow, we will tokenize our normalized corpus and then focus on the following four parameters in the Word2Vec model to build it.\n",
    "\n",
    "- __`size`:__ The word embedding dimensionality\n",
    "- __`window`:__ The context window size\n",
    "- __`min_count`:__ The minimum word count\n",
    "- __`sample`:__ The downsample setting for frequent words\n",
    "- __`sg`:__ Training model, 1 for skip-gram otherwise CBOW\n",
    "\n",
    "We will build a simple Word2Vec model on the corpus and visualize the embeddings."
   ]
  },
  {
   "cell_type": "code",
   "execution_count": 5,
   "metadata": {
    "colab": {
     "base_uri": "https://localhost:8080/",
     "height": 35
    },
    "id": "MYRXwquZvJle",
    "outputId": "76d27953-1f01-4cef-9c65-b414e9b7c5b9"
   },
   "outputs": [
    {
     "data": {
      "text/plain": [
       "'4.3.3'"
      ]
     },
     "execution_count": 5,
     "metadata": {},
     "output_type": "execute_result"
    }
   ],
   "source": [
    "import gensim\n",
    "gensim.__version__\n",
    "#4.0.0+"
   ]
  },
  {
   "cell_type": "code",
   "execution_count": 6,
   "metadata": {
    "colab": {
     "base_uri": "https://localhost:8080/"
    },
    "id": "m7JNogBHwbeu",
    "outputId": "c23a4624-98e7-44ff-85ad-5a252ed8d0a6"
   },
   "outputs": [
    {
     "data": {
      "text/plain": [
       "[['sky', 'blue', 'beautiful'],\n",
       " ['love', 'blue', 'beautiful', 'sky'],\n",
       " ['birds', 'love', 'eat', 'sleep', 'chirp'],\n",
       " ['cats', 'love', 'eat', 'sleep'],\n",
       " ['sky', 'blue', 'sky', 'beautiful', 'today'],\n",
       " ['dog', 'loves', 'sleep', 'eat']]"
      ]
     },
     "execution_count": 6,
     "metadata": {},
     "output_type": "execute_result"
    }
   ],
   "source": [
    "tokenized_corpus"
   ]
  },
  {
   "cell_type": "code",
   "execution_count": 7,
   "metadata": {
    "colab": {
     "base_uri": "https://localhost:8080/"
    },
    "id": "yqQIGvSSvBB3",
    "outputId": "f25ac559-0f10-4c62-fc4c-63a969524b80"
   },
   "outputs": [
    {
     "data": {
      "text/plain": [
       "<gensim.models.word2vec.Word2Vec at 0x7fc3209e3850>"
      ]
     },
     "execution_count": 7,
     "metadata": {},
     "output_type": "execute_result"
    }
   ],
   "source": [
    "from gensim.models import word2vec\n",
    "\n",
    "\n",
    "# Set values for various parameters\n",
    "feature_size = 20    # Word vector dimensionality  every word -> [......] -> vector size of 20 float numbers\n",
    "window_context = 5  # Context window size (looking at surrounding words)\n",
    "min_word_count = 1   # Minimum word count\n",
    "sg = 1               # skip-gram model if sg = 1 and CBOW if sg = 0\n",
    "\n",
    "w2v_model = word2vec.Word2Vec(tokenized_corpus,\n",
    "                              vector_size=feature_size,\n",
    "                              window=window_context,\n",
    "                              min_count = min_word_count,\n",
    "                              sg=sg, epochs=5000)\n",
    "w2v_model"
   ]
  },
  {
   "cell_type": "code",
   "execution_count": 8,
   "metadata": {
    "colab": {
     "base_uri": "https://localhost:8080/"
    },
    "id": "SBehsA9ewENL",
    "outputId": "9cd87b22-31e0-4579-ca27-721e8989e7e5"
   },
   "outputs": [
    {
     "data": {
      "text/plain": [
       "array([-0.5729603 ,  0.39481637,  0.24301627,  0.47278437, -0.2360732 ,\n",
       "       -0.343259  ,  0.5858813 ,  0.8051598 , -0.43501168,  0.19471067,\n",
       "        0.23335059, -0.38316745, -0.1280008 ,  0.45462367,  0.28617364,\n",
       "       -0.02496031,  0.34260848, -0.0952384 , -0.57644325, -0.47866657],\n",
       "      dtype=float32)"
      ]
     },
     "execution_count": 8,
     "metadata": {},
     "output_type": "execute_result"
    }
   ],
   "source": [
    "# embedding for the word sky\n",
    "w2v_model.wv['sky']"
   ]
  },
  {
   "cell_type": "code",
   "execution_count": 9,
   "metadata": {
    "colab": {
     "base_uri": "https://localhost:8080/"
    },
    "id": "JWtSDPkW2_GC",
    "outputId": "f10df81b-1354-4507-966e-1442cff4a043"
   },
   "outputs": [
    {
     "data": {
      "text/plain": [
       "array([-0.31177023,  0.17520344, -0.16413285, -0.5043009 ,  0.3418004 ,\n",
       "        0.03894394, -0.06967659,  0.43480217, -0.30209842,  0.37191796,\n",
       "       -0.01608181, -0.12416217,  0.12001207, -0.42023623,  0.2228649 ,\n",
       "       -0.08945738,  0.6648276 , -0.04548762, -0.3423654 ,  0.15214309],\n",
       "      dtype=float32)"
      ]
     },
     "execution_count": 9,
     "metadata": {},
     "output_type": "execute_result"
    }
   ],
   "source": [
    "# embedding for the word cats\n",
    "w2v_model.wv['cats']"
   ]
  },
  {
   "cell_type": "code",
   "execution_count": 10,
   "metadata": {
    "colab": {
     "base_uri": "https://localhost:8080/"
    },
    "id": "gmOr3lXv3DUN",
    "outputId": "2c3cb7bb-d183-4c6d-a2ff-56f839f3e5ba"
   },
   "outputs": [
    {
     "data": {
      "text/plain": [
       "array([-0.21396875,  0.11712985, -0.3260361 , -0.5312367 ,  0.33037147,\n",
       "        0.13406532, -0.00489734,  0.6123193 , -0.32787845,  0.47922716,\n",
       "        0.05724346, -0.24106193,  0.1075454 , -0.37096035,  0.2733763 ,\n",
       "       -0.02602411,  0.8748078 ,  0.00318956, -0.33019033,  0.2110794 ],\n",
       "      dtype=float32)"
      ]
     },
     "execution_count": 10,
     "metadata": {},
     "output_type": "execute_result"
    }
   ],
   "source": [
    "# embedding for the word dog\n",
    "w2v_model.wv['dog']"
   ]
  },
  {
   "cell_type": "code",
   "execution_count": 11,
   "metadata": {
    "colab": {
     "base_uri": "https://localhost:8080/"
    },
    "id": "tMnpltMJ_A-d",
    "outputId": "e458095e-44d7-4d92-a38f-6376e496e885"
   },
   "outputs": [
    {
     "data": {
      "text/plain": [
       "(20,)"
      ]
     },
     "execution_count": 11,
     "metadata": {},
     "output_type": "execute_result"
    }
   ],
   "source": [
    "w2v_model.wv['sky'].shape"
   ]
  },
  {
   "cell_type": "code",
   "execution_count": 12,
   "metadata": {
    "colab": {
     "base_uri": "https://localhost:8080/"
    },
    "id": "frWwNrzNC52F",
    "outputId": "56eec9df-4248-43ff-f291-26dfb9cc86b5"
   },
   "outputs": [
    {
     "data": {
      "text/plain": [
       "['sky',\n",
       " 'sleep',\n",
       " 'eat',\n",
       " 'love',\n",
       " 'beautiful',\n",
       " 'blue',\n",
       " 'loves',\n",
       " 'dog',\n",
       " 'today',\n",
       " 'cats',\n",
       " 'chirp',\n",
       " 'birds']"
      ]
     },
     "execution_count": 12,
     "metadata": {},
     "output_type": "execute_result"
    }
   ],
   "source": [
    "w2v_model.wv.index_to_key"
   ]
  },
  {
   "cell_type": "code",
   "execution_count": 13,
   "metadata": {
    "colab": {
     "base_uri": "https://localhost:8080/",
     "height": 599
    },
    "id": "6NY4l-zaRiqo",
    "outputId": "97d0c751-eeff-4f3b-c0d0-dae8850b7dc4"
   },
   "outputs": [
    {
     "data": {
      "image/png": "[encoded data removed]",
      "text/plain": [
       "<Figure size 1000x700 with 1 Axes>"
      ]
     },
     "metadata": {},
     "output_type": "display_data"
    }
   ],
   "source": [
    "words = w2v_model.wv.index_to_key\n",
    "wvs = w2v_model.wv[words]\n",
    "\n",
    "pca = PCA(n_components=2, random_state=42)\n",
    "np.set_printoptions(suppress=True)\n",
    "pcs = pca.fit_transform(wvs)\n",
    "labels = words\n",
    "\n",
    "plt.figure(figsize=(10, 7))\n",
    "plt.scatter(pcs[:, 1], pcs[:, 0], c='orange', edgecolors='r')\n",
    "for label, x, y in zip(labels, pcs[:, 1], pcs[:, 0]):\n",
    "    plt.annotate(label, xy=(x+0.005, y+0.005), xytext=(0, 0), textcoords='offset points')"
   ]
  },
  {
   "cell_type": "code",
   "execution_count": 14,
   "metadata": {
    "colab": {
     "base_uri": "https://localhost:8080/"
    },
    "id": "V7h2GmytRiqq",
    "outputId": "72d18686-f877-4ddd-e138-ebd1e05dbfb5"
   },
   "outputs": [
    {
     "data": {
      "text/plain": [
       "(array([-0.5729603 ,  0.39481637,  0.24301627,  0.47278437, -0.2360732 ,\n",
       "        -0.343259  ,  0.5858813 ,  0.8051598 , -0.43501168,  0.19471067,\n",
       "         0.23335059, -0.38316745, -0.1280008 ,  0.45462367,  0.28617364,\n",
       "        -0.02496031,  0.34260848, -0.0952384 , -0.57644325, -0.47866657],\n",
       "       dtype=float32),\n",
       " (20,))"
      ]
     },
     "execution_count": 14,
     "metadata": {},
     "output_type": "execute_result"
    }
   ],
   "source": [
    "w2v_model.wv['sky'], w2v_model.wv['sky'].shape"
   ]
  },
  {
   "cell_type": "code",
   "execution_count": 15,
   "metadata": {
    "colab": {
     "base_uri": "https://localhost:8080/",
     "height": 445
    },
    "id": "3INpkJK4Riqs",
    "outputId": "578e3db7-8719-40c9-eadc-9c0d8184d9ae"
   },
   "outputs": [
    {
     "data": {
      "text/html": [
       "<div>\n",
       "<style scoped>\n",
       "    .dataframe tbody tr th:only-of-type {\n",
       "        vertical-align: middle;\n",
       "    }\n",
       "\n",
       "    .dataframe tbody tr th {\n",
       "        vertical-align: top;\n",
       "    }\n",
       "\n",
       "    .dataframe thead th {\n",
       "        text-align: right;\n",
       "    }\n",
       "</style>\n",
       "<table border=\"1\" class=\"dataframe\">\n",
       "  <thead>\n",
       "    <tr style=\"text-align: right;\">\n",
       "      <th></th>\n",
       "      <th>0</th>\n",
       "      <th>1</th>\n",
       "      <th>2</th>\n",
       "      <th>3</th>\n",
       "      <th>4</th>\n",
       "      <th>5</th>\n",
       "      <th>6</th>\n",
       "      <th>7</th>\n",
       "      <th>8</th>\n",
       "      <th>9</th>\n",
       "      <th>10</th>\n",
       "      <th>11</th>\n",
       "      <th>12</th>\n",
       "      <th>13</th>\n",
       "      <th>14</th>\n",
       "      <th>15</th>\n",
       "      <th>16</th>\n",
       "      <th>17</th>\n",
       "      <th>18</th>\n",
       "      <th>19</th>\n",
       "    </tr>\n",
       "  </thead>\n",
       "  <tbody>\n",
       "    <tr>\n",
       "      <th>sky</th>\n",
       "      <td>-0.572960</td>\n",
       "      <td>0.394816</td>\n",
       "      <td>0.243016</td>\n",
       "      <td>0.472784</td>\n",
       "      <td>-0.236073</td>\n",
       "      <td>-0.343259</td>\n",
       "      <td>0.585881</td>\n",
       "      <td>0.805160</td>\n",
       "      <td>-0.435012</td>\n",
       "      <td>0.194711</td>\n",
       "      <td>0.233351</td>\n",
       "      <td>-0.383167</td>\n",
       "      <td>-0.128001</td>\n",
       "      <td>0.454624</td>\n",
       "      <td>0.286174</td>\n",
       "      <td>-0.024960</td>\n",
       "      <td>0.342608</td>\n",
       "      <td>-0.095238</td>\n",
       "      <td>-0.576443</td>\n",
       "      <td>-0.478667</td>\n",
       "    </tr>\n",
       "    <tr>\n",
       "      <th>sleep</th>\n",
       "      <td>-0.176839</td>\n",
       "      <td>0.249425</td>\n",
       "      <td>-0.150669</td>\n",
       "      <td>-0.503006</td>\n",
       "      <td>0.440308</td>\n",
       "      <td>0.026407</td>\n",
       "      <td>-0.076088</td>\n",
       "      <td>0.689986</td>\n",
       "      <td>-0.464908</td>\n",
       "      <td>0.421181</td>\n",
       "      <td>-0.119293</td>\n",
       "      <td>-0.136887</td>\n",
       "      <td>0.249013</td>\n",
       "      <td>-0.507815</td>\n",
       "      <td>0.272834</td>\n",
       "      <td>-0.136414</td>\n",
       "      <td>0.858378</td>\n",
       "      <td>-0.132124</td>\n",
       "      <td>-0.318168</td>\n",
       "      <td>0.053513</td>\n",
       "    </tr>\n",
       "    <tr>\n",
       "      <th>eat</th>\n",
       "      <td>-0.438586</td>\n",
       "      <td>0.256686</td>\n",
       "      <td>-0.337762</td>\n",
       "      <td>-0.532316</td>\n",
       "      <td>0.347023</td>\n",
       "      <td>0.020211</td>\n",
       "      <td>-0.196837</td>\n",
       "      <td>0.709618</td>\n",
       "      <td>-0.248538</td>\n",
       "      <td>0.553217</td>\n",
       "      <td>-0.174509</td>\n",
       "      <td>-0.050230</td>\n",
       "      <td>0.023182</td>\n",
       "      <td>-0.354986</td>\n",
       "      <td>0.391315</td>\n",
       "      <td>-0.174175</td>\n",
       "      <td>0.750836</td>\n",
       "      <td>-0.158834</td>\n",
       "      <td>-0.362234</td>\n",
       "      <td>0.283102</td>\n",
       "    </tr>\n",
       "    <tr>\n",
       "      <th>love</th>\n",
       "      <td>-0.321333</td>\n",
       "      <td>0.203535</td>\n",
       "      <td>-0.127205</td>\n",
       "      <td>-0.314640</td>\n",
       "      <td>0.199509</td>\n",
       "      <td>-0.013895</td>\n",
       "      <td>0.082840</td>\n",
       "      <td>0.589119</td>\n",
       "      <td>-0.345966</td>\n",
       "      <td>0.346168</td>\n",
       "      <td>0.071146</td>\n",
       "      <td>-0.089961</td>\n",
       "      <td>0.042177</td>\n",
       "      <td>-0.258603</td>\n",
       "      <td>0.268860</td>\n",
       "      <td>-0.080239</td>\n",
       "      <td>0.589464</td>\n",
       "      <td>-0.061239</td>\n",
       "      <td>-0.317720</td>\n",
       "      <td>-0.133810</td>\n",
       "    </tr>\n",
       "    <tr>\n",
       "      <th>beautiful</th>\n",
       "      <td>-0.580819</td>\n",
       "      <td>0.427266</td>\n",
       "      <td>0.246308</td>\n",
       "      <td>0.439892</td>\n",
       "      <td>-0.188785</td>\n",
       "      <td>-0.233421</td>\n",
       "      <td>0.564070</td>\n",
       "      <td>0.628990</td>\n",
       "      <td>-0.390579</td>\n",
       "      <td>0.324556</td>\n",
       "      <td>0.147487</td>\n",
       "      <td>-0.360440</td>\n",
       "      <td>-0.025368</td>\n",
       "      <td>0.388440</td>\n",
       "      <td>0.447800</td>\n",
       "      <td>0.029523</td>\n",
       "      <td>0.183217</td>\n",
       "      <td>-0.193335</td>\n",
       "      <td>-0.455220</td>\n",
       "      <td>-0.285104</td>\n",
       "    </tr>\n",
       "    <tr>\n",
       "      <th>blue</th>\n",
       "      <td>-0.623390</td>\n",
       "      <td>0.392800</td>\n",
       "      <td>0.210464</td>\n",
       "      <td>0.413985</td>\n",
       "      <td>-0.064962</td>\n",
       "      <td>-0.295899</td>\n",
       "      <td>0.501309</td>\n",
       "      <td>0.673356</td>\n",
       "      <td>-0.311430</td>\n",
       "      <td>0.147247</td>\n",
       "      <td>0.125281</td>\n",
       "      <td>-0.438494</td>\n",
       "      <td>-0.141453</td>\n",
       "      <td>0.479240</td>\n",
       "      <td>0.330017</td>\n",
       "      <td>0.063436</td>\n",
       "      <td>0.303666</td>\n",
       "      <td>-0.029319</td>\n",
       "      <td>-0.442899</td>\n",
       "      <td>-0.348309</td>\n",
       "    </tr>\n",
       "    <tr>\n",
       "      <th>loves</th>\n",
       "      <td>-0.291553</td>\n",
       "      <td>0.135733</td>\n",
       "      <td>-0.110787</td>\n",
       "      <td>-0.612068</td>\n",
       "      <td>0.405966</td>\n",
       "      <td>0.076799</td>\n",
       "      <td>-0.107905</td>\n",
       "      <td>0.654813</td>\n",
       "      <td>-0.352558</td>\n",
       "      <td>0.540885</td>\n",
       "      <td>0.113621</td>\n",
       "      <td>-0.176663</td>\n",
       "      <td>0.079206</td>\n",
       "      <td>-0.449278</td>\n",
       "      <td>0.340959</td>\n",
       "      <td>-0.072119</td>\n",
       "      <td>0.801564</td>\n",
       "      <td>-0.000193</td>\n",
       "      <td>-0.204701</td>\n",
       "      <td>0.235950</td>\n",
       "    </tr>\n",
       "    <tr>\n",
       "      <th>dog</th>\n",
       "      <td>-0.213969</td>\n",
       "      <td>0.117130</td>\n",
       "      <td>-0.326036</td>\n",
       "      <td>-0.531237</td>\n",
       "      <td>0.330371</td>\n",
       "      <td>0.134065</td>\n",
       "      <td>-0.004897</td>\n",
       "      <td>0.612319</td>\n",
       "      <td>-0.327878</td>\n",
       "      <td>0.479227</td>\n",
       "      <td>0.057243</td>\n",
       "      <td>-0.241062</td>\n",
       "      <td>0.107545</td>\n",
       "      <td>-0.370960</td>\n",
       "      <td>0.273376</td>\n",
       "      <td>-0.026024</td>\n",
       "      <td>0.874808</td>\n",
       "      <td>0.003190</td>\n",
       "      <td>-0.330190</td>\n",
       "      <td>0.211079</td>\n",
       "    </tr>\n",
       "    <tr>\n",
       "      <th>today</th>\n",
       "      <td>-0.592773</td>\n",
       "      <td>0.373147</td>\n",
       "      <td>0.146412</td>\n",
       "      <td>0.328049</td>\n",
       "      <td>-0.099601</td>\n",
       "      <td>-0.194966</td>\n",
       "      <td>0.526392</td>\n",
       "      <td>0.562759</td>\n",
       "      <td>-0.237284</td>\n",
       "      <td>0.241171</td>\n",
       "      <td>0.115884</td>\n",
       "      <td>-0.413918</td>\n",
       "      <td>-0.058201</td>\n",
       "      <td>0.446533</td>\n",
       "      <td>0.316147</td>\n",
       "      <td>-0.016950</td>\n",
       "      <td>0.195366</td>\n",
       "      <td>-0.096474</td>\n",
       "      <td>-0.361682</td>\n",
       "      <td>-0.345771</td>\n",
       "    </tr>\n",
       "    <tr>\n",
       "      <th>cats</th>\n",
       "      <td>-0.311770</td>\n",
       "      <td>0.175203</td>\n",
       "      <td>-0.164133</td>\n",
       "      <td>-0.504301</td>\n",
       "      <td>0.341800</td>\n",
       "      <td>0.038944</td>\n",
       "      <td>-0.069677</td>\n",
       "      <td>0.434802</td>\n",
       "      <td>-0.302098</td>\n",
       "      <td>0.371918</td>\n",
       "      <td>-0.016082</td>\n",
       "      <td>-0.124162</td>\n",
       "      <td>0.120012</td>\n",
       "      <td>-0.420236</td>\n",
       "      <td>0.222865</td>\n",
       "      <td>-0.089457</td>\n",
       "      <td>0.664828</td>\n",
       "      <td>-0.045488</td>\n",
       "      <td>-0.342365</td>\n",
       "      <td>0.152143</td>\n",
       "    </tr>\n",
       "    <tr>\n",
       "      <th>chirp</th>\n",
       "      <td>-0.270181</td>\n",
       "      <td>0.221773</td>\n",
       "      <td>-0.246962</td>\n",
       "      <td>-0.484945</td>\n",
       "      <td>0.406773</td>\n",
       "      <td>0.094115</td>\n",
       "      <td>-0.113673</td>\n",
       "      <td>0.573579</td>\n",
       "      <td>-0.418354</td>\n",
       "      <td>0.458914</td>\n",
       "      <td>-0.096582</td>\n",
       "      <td>-0.114427</td>\n",
       "      <td>0.207283</td>\n",
       "      <td>-0.403637</td>\n",
       "      <td>0.325312</td>\n",
       "      <td>-0.175755</td>\n",
       "      <td>0.729433</td>\n",
       "      <td>0.007481</td>\n",
       "      <td>-0.395593</td>\n",
       "      <td>0.052284</td>\n",
       "    </tr>\n",
       "    <tr>\n",
       "      <th>birds</th>\n",
       "      <td>-0.374466</td>\n",
       "      <td>0.164898</td>\n",
       "      <td>-0.219537</td>\n",
       "      <td>-0.544388</td>\n",
       "      <td>0.399673</td>\n",
       "      <td>-0.015450</td>\n",
       "      <td>0.019232</td>\n",
       "      <td>0.619313</td>\n",
       "      <td>-0.403770</td>\n",
       "      <td>0.459252</td>\n",
       "      <td>0.014222</td>\n",
       "      <td>-0.170452</td>\n",
       "      <td>0.043831</td>\n",
       "      <td>-0.416306</td>\n",
       "      <td>0.211305</td>\n",
       "      <td>-0.120899</td>\n",
       "      <td>0.695426</td>\n",
       "      <td>-0.053748</td>\n",
       "      <td>-0.323307</td>\n",
       "      <td>0.089861</td>\n",
       "    </tr>\n",
       "  </tbody>\n",
       "</table>\n",
       "</div>"
      ],
      "text/plain": [
       "                 0         1         2         3         4         5   \\\n",
       "sky       -0.572960  0.394816  0.243016  0.472784 -0.236073 -0.343259   \n",
       "sleep     -0.176839  0.249425 -0.150669 -0.503006  0.440308  0.026407   \n",
       "eat       -0.438586  0.256686 -0.337762 -0.532316  0.347023  0.020211   \n",
       "love      -0.321333  0.203535 -0.127205 -0.314640  0.199509 -0.013895   \n",
       "beautiful -0.580819  0.427266  0.246308  0.439892 -0.188785 -0.233421   \n",
       "blue      -0.623390  0.392800  0.210464  0.413985 -0.064962 -0.295899   \n",
       "loves     -0.291553  0.135733 -0.110787 -0.612068  0.405966  0.076799   \n",
       "dog       -0.213969  0.117130 -0.326036 -0.531237  0.330371  0.134065   \n",
       "today     -0.592773  0.373147  0.146412  0.328049 -0.099601 -0.194966   \n",
       "cats      -0.311770  0.175203 -0.164133 -0.504301  0.341800  0.038944   \n",
       "chirp     -0.270181  0.221773 -0.246962 -0.484945  0.406773  0.094115   \n",
       "birds     -0.374466  0.164898 -0.219537 -0.544388  0.399673 -0.015450   \n",
       "\n",
       "                 6         7         8         9         10        11  \\\n",
       "sky        0.585881  0.805160 -0.435012  0.194711  0.233351 -0.383167   \n",
       "sleep     -0.076088  0.689986 -0.464908  0.421181 -0.119293 -0.136887   \n",
       "eat       -0.196837  0.709618 -0.248538  0.553217 -0.174509 -0.050230   \n",
       "love       0.082840  0.589119 -0.345966  0.346168  0.071146 -0.089961   \n",
       "beautiful  0.564070  0.628990 -0.390579  0.324556  0.147487 -0.360440   \n",
       "blue       0.501309  0.673356 -0.311430  0.147247  0.125281 -0.438494   \n",
       "loves     -0.107905  0.654813 -0.352558  0.540885  0.113621 -0.176663   \n",
       "dog       -0.004897  0.612319 -0.327878  0.479227  0.057243 -0.241062   \n",
       "today      0.526392  0.562759 -0.237284  0.241171  0.115884 -0.413918   \n",
       "cats      -0.069677  0.434802 -0.302098  0.371918 -0.016082 -0.124162   \n",
       "chirp     -0.113673  0.573579 -0.418354  0.458914 -0.096582 -0.114427   \n",
       "birds      0.019232  0.619313 -0.403770  0.459252  0.014222 -0.170452   \n",
       "\n",
       "                 12        13        14        15        16        17  \\\n",
       "sky       -0.128001  0.454624  0.286174 -0.024960  0.342608 -0.095238   \n",
       "sleep      0.249013 -0.507815  0.272834 -0.136414  0.858378 -0.132124   \n",
       "eat        0.023182 -0.354986  0.391315 -0.174175  0.750836 -0.158834   \n",
       "love       0.042177 -0.258603  0.268860 -0.080239  0.589464 -0.061239   \n",
       "beautiful -0.025368  0.388440  0.447800  0.029523  0.183217 -0.193335   \n",
       "blue      -0.141453  0.479240  0.330017  0.063436  0.303666 -0.029319   \n",
       "loves      0.079206 -0.449278  0.340959 -0.072119  0.801564 -0.000193   \n",
       "dog        0.107545 -0.370960  0.273376 -0.026024  0.874808  0.003190   \n",
       "today     -0.058201  0.446533  0.316147 -0.016950  0.195366 -0.096474   \n",
       "cats       0.120012 -0.420236  0.222865 -0.089457  0.664828 -0.045488   \n",
       "chirp      0.207283 -0.403637  0.325312 -0.175755  0.729433  0.007481   \n",
       "birds      0.043831 -0.416306  0.211305 -0.120899  0.695426 -0.053748   \n",
       "\n",
       "                 18        19  \n",
       "sky       -0.576443 -0.478667  \n",
       "sleep     -0.318168  0.053513  \n",
       "eat       -0.362234  0.283102  \n",
       "love      -0.317720 -0.133810  \n",
       "beautiful -0.455220 -0.285104  \n",
       "blue      -0.442899 -0.348309  \n",
       "loves     -0.204701  0.235950  \n",
       "dog       -0.330190  0.211079  \n",
       "today     -0.361682 -0.345771  \n",
       "cats      -0.342365  0.152143  \n",
       "chirp     -0.395593  0.052284  \n",
       "birds     -0.323307  0.089861  "
      ]
     },
     "execution_count": 15,
     "metadata": {},
     "output_type": "execute_result"
    }
   ],
   "source": [
    "vec_df = pd.DataFrame(wvs, index=words)\n",
    "vec_df"
   ]
  },
  {
   "cell_type": "markdown",
   "metadata": {
    "id": "gTCiDguVRiqu"
   },
   "source": [
    "### Looking at term semantic similarity"
   ]
  },
  {
   "cell_type": "code",
   "execution_count": 16,
   "metadata": {
    "colab": {
     "base_uri": "https://localhost:8080/",
     "height": 425
    },
    "id": "S63FJhi2Riqv",
    "outputId": "ff226bf3-6b39-400e-d81a-28667dd364d0"
   },
   "outputs": [
    {
     "data": {
      "text/html": [
       "<div>\n",
       "<style scoped>\n",
       "    .dataframe tbody tr th:only-of-type {\n",
       "        vertical-align: middle;\n",
       "    }\n",
       "\n",
       "    .dataframe tbody tr th {\n",
       "        vertical-align: top;\n",
       "    }\n",
       "\n",
       "    .dataframe thead th {\n",
       "        text-align: right;\n",
       "    }\n",
       "</style>\n",
       "<table border=\"1\" class=\"dataframe\">\n",
       "  <thead>\n",
       "    <tr style=\"text-align: right;\">\n",
       "      <th></th>\n",
       "      <th>sky</th>\n",
       "      <th>sleep</th>\n",
       "      <th>eat</th>\n",
       "      <th>love</th>\n",
       "      <th>beautiful</th>\n",
       "      <th>blue</th>\n",
       "      <th>loves</th>\n",
       "      <th>dog</th>\n",
       "      <th>today</th>\n",
       "      <th>cats</th>\n",
       "      <th>chirp</th>\n",
       "      <th>birds</th>\n",
       "    </tr>\n",
       "  </thead>\n",
       "  <tbody>\n",
       "    <tr>\n",
       "      <th>sky</th>\n",
       "      <td>1.000000</td>\n",
       "      <td>0.301787</td>\n",
       "      <td>0.285017</td>\n",
       "      <td>0.550839</td>\n",
       "      <td>0.971664</td>\n",
       "      <td>0.982269</td>\n",
       "      <td>0.257051</td>\n",
       "      <td>0.287594</td>\n",
       "      <td>0.971955</td>\n",
       "      <td>0.263997</td>\n",
       "      <td>0.301882</td>\n",
       "      <td>0.353002</td>\n",
       "    </tr>\n",
       "    <tr>\n",
       "      <th>sleep</th>\n",
       "      <td>0.301787</td>\n",
       "      <td>1.000000</td>\n",
       "      <td>0.935576</td>\n",
       "      <td>0.937687</td>\n",
       "      <td>0.304851</td>\n",
       "      <td>0.296355</td>\n",
       "      <td>0.956275</td>\n",
       "      <td>0.954524</td>\n",
       "      <td>0.282995</td>\n",
       "      <td>0.972126</td>\n",
       "      <td>0.982336</td>\n",
       "      <td>0.967581</td>\n",
       "    </tr>\n",
       "    <tr>\n",
       "      <th>eat</th>\n",
       "      <td>0.285017</td>\n",
       "      <td>0.935576</td>\n",
       "      <td>1.000000</td>\n",
       "      <td>0.907892</td>\n",
       "      <td>0.313001</td>\n",
       "      <td>0.303391</td>\n",
       "      <td>0.945430</td>\n",
       "      <td>0.941288</td>\n",
       "      <td>0.300744</td>\n",
       "      <td>0.959473</td>\n",
       "      <td>0.956467</td>\n",
       "      <td>0.954325</td>\n",
       "    </tr>\n",
       "    <tr>\n",
       "      <th>love</th>\n",
       "      <td>0.550839</td>\n",
       "      <td>0.937687</td>\n",
       "      <td>0.907892</td>\n",
       "      <td>1.000000</td>\n",
       "      <td>0.540442</td>\n",
       "      <td>0.537700</td>\n",
       "      <td>0.919168</td>\n",
       "      <td>0.923073</td>\n",
       "      <td>0.531321</td>\n",
       "      <td>0.930279</td>\n",
       "      <td>0.942794</td>\n",
       "      <td>0.960021</td>\n",
       "    </tr>\n",
       "    <tr>\n",
       "      <th>beautiful</th>\n",
       "      <td>0.971664</td>\n",
       "      <td>0.304851</td>\n",
       "      <td>0.313001</td>\n",
       "      <td>0.540442</td>\n",
       "      <td>1.000000</td>\n",
       "      <td>0.970774</td>\n",
       "      <td>0.272999</td>\n",
       "      <td>0.290135</td>\n",
       "      <td>0.981145</td>\n",
       "      <td>0.276395</td>\n",
       "      <td>0.312098</td>\n",
       "      <td>0.354035</td>\n",
       "    </tr>\n",
       "    <tr>\n",
       "      <th>blue</th>\n",
       "      <td>0.982269</td>\n",
       "      <td>0.296355</td>\n",
       "      <td>0.303391</td>\n",
       "      <td>0.537700</td>\n",
       "      <td>0.970774</td>\n",
       "      <td>1.000000</td>\n",
       "      <td>0.268799</td>\n",
       "      <td>0.295068</td>\n",
       "      <td>0.986594</td>\n",
       "      <td>0.272938</td>\n",
       "      <td>0.304726</td>\n",
       "      <td>0.357823</td>\n",
       "    </tr>\n",
       "    <tr>\n",
       "      <th>loves</th>\n",
       "      <td>0.257051</td>\n",
       "      <td>0.956275</td>\n",
       "      <td>0.945430</td>\n",
       "      <td>0.919168</td>\n",
       "      <td>0.272999</td>\n",
       "      <td>0.268799</td>\n",
       "      <td>1.000000</td>\n",
       "      <td>0.975434</td>\n",
       "      <td>0.258262</td>\n",
       "      <td>0.975388</td>\n",
       "      <td>0.958620</td>\n",
       "      <td>0.973810</td>\n",
       "    </tr>\n",
       "    <tr>\n",
       "      <th>dog</th>\n",
       "      <td>0.287594</td>\n",
       "      <td>0.954524</td>\n",
       "      <td>0.941288</td>\n",
       "      <td>0.923073</td>\n",
       "      <td>0.290135</td>\n",
       "      <td>0.295068</td>\n",
       "      <td>0.975434</td>\n",
       "      <td>1.000000</td>\n",
       "      <td>0.285789</td>\n",
       "      <td>0.971902</td>\n",
       "      <td>0.963640</td>\n",
       "      <td>0.969604</td>\n",
       "    </tr>\n",
       "    <tr>\n",
       "      <th>today</th>\n",
       "      <td>0.971955</td>\n",
       "      <td>0.282995</td>\n",
       "      <td>0.300744</td>\n",
       "      <td>0.531321</td>\n",
       "      <td>0.981145</td>\n",
       "      <td>0.986594</td>\n",
       "      <td>0.258262</td>\n",
       "      <td>0.285789</td>\n",
       "      <td>1.000000</td>\n",
       "      <td>0.264069</td>\n",
       "      <td>0.299221</td>\n",
       "      <td>0.350708</td>\n",
       "    </tr>\n",
       "    <tr>\n",
       "      <th>cats</th>\n",
       "      <td>0.263997</td>\n",
       "      <td>0.972126</td>\n",
       "      <td>0.959473</td>\n",
       "      <td>0.930279</td>\n",
       "      <td>0.276395</td>\n",
       "      <td>0.272938</td>\n",
       "      <td>0.975388</td>\n",
       "      <td>0.971902</td>\n",
       "      <td>0.264069</td>\n",
       "      <td>1.000000</td>\n",
       "      <td>0.982389</td>\n",
       "      <td>0.985135</td>\n",
       "    </tr>\n",
       "    <tr>\n",
       "      <th>chirp</th>\n",
       "      <td>0.301882</td>\n",
       "      <td>0.982336</td>\n",
       "      <td>0.956467</td>\n",
       "      <td>0.942794</td>\n",
       "      <td>0.312098</td>\n",
       "      <td>0.304726</td>\n",
       "      <td>0.958620</td>\n",
       "      <td>0.963640</td>\n",
       "      <td>0.299221</td>\n",
       "      <td>0.982389</td>\n",
       "      <td>1.000000</td>\n",
       "      <td>0.974401</td>\n",
       "    </tr>\n",
       "    <tr>\n",
       "      <th>birds</th>\n",
       "      <td>0.353002</td>\n",
       "      <td>0.967581</td>\n",
       "      <td>0.954325</td>\n",
       "      <td>0.960021</td>\n",
       "      <td>0.354035</td>\n",
       "      <td>0.357823</td>\n",
       "      <td>0.973810</td>\n",
       "      <td>0.969604</td>\n",
       "      <td>0.350708</td>\n",
       "      <td>0.985135</td>\n",
       "      <td>0.974401</td>\n",
       "      <td>1.000000</td>\n",
       "    </tr>\n",
       "  </tbody>\n",
       "</table>\n",
       "</div>"
      ],
      "text/plain": [
       "                sky     sleep       eat      love  beautiful      blue  \\\n",
       "sky        1.000000  0.301787  0.285017  0.550839   0.971664  0.982269   \n",
       "sleep      0.301787  1.000000  0.935576  0.937687   0.304851  0.296355   \n",
       "eat        0.285017  0.935576  1.000000  0.907892   0.313001  0.303391   \n",
       "love       0.550839  0.937687  0.907892  1.000000   0.540442  0.537700   \n",
       "beautiful  0.971664  0.304851  0.313001  0.540442   1.000000  0.970774   \n",
       "blue       0.982269  0.296355  0.303391  0.537700   0.970774  1.000000   \n",
       "loves      0.257051  0.956275  0.945430  0.919168   0.272999  0.268799   \n",
       "dog        0.287594  0.954524  0.941288  0.923073   0.290135  0.295068   \n",
       "today      0.971955  0.282995  0.300744  0.531321   0.981145  0.986594   \n",
       "cats       0.263997  0.972126  0.959473  0.930279   0.276395  0.272938   \n",
       "chirp      0.301882  0.982336  0.956467  0.942794   0.312098  0.304726   \n",
       "birds      0.353002  0.967581  0.954325  0.960021   0.354035  0.357823   \n",
       "\n",
       "              loves       dog     today      cats     chirp     birds  \n",
       "sky        0.257051  0.287594  0.971955  0.263997  0.301882  0.353002  \n",
       "sleep      0.956275  0.954524  0.282995  0.972126  0.982336  0.967581  \n",
       "eat        0.945430  0.941288  0.300744  0.959473  0.956467  0.954325  \n",
       "love       0.919168  0.923073  0.531321  0.930279  0.942794  0.960021  \n",
       "beautiful  0.272999  0.290135  0.981145  0.276395  0.312098  0.354035  \n",
       "blue       0.268799  0.295068  0.986594  0.272938  0.304726  0.357823  \n",
       "loves      1.000000  0.975434  0.258262  0.975388  0.958620  0.973810  \n",
       "dog        0.975434  1.000000  0.285789  0.971902  0.963640  0.969604  \n",
       "today      0.258262  0.285789  1.000000  0.264069  0.299221  0.350708  \n",
       "cats       0.975388  0.971902  0.264069  1.000000  0.982389  0.985135  \n",
       "chirp      0.958620  0.963640  0.299221  0.982389  1.000000  0.974401  \n",
       "birds      0.973810  0.969604  0.350708  0.985135  0.974401  1.000000  "
      ]
     },
     "execution_count": 16,
     "metadata": {},
     "output_type": "execute_result"
    }
   ],
   "source": [
    "import numpy as np\n",
    "from sklearn.metrics.pairwise import cosine_similarity\n",
    "\n",
    "similarity_matrix = cosine_similarity(vec_df.values)\n",
    "similarity_df = pd.DataFrame(similarity_matrix, index=words, columns=words)\n",
    "similarity_df"
   ]
  },
  {
   "cell_type": "code",
   "execution_count": 17,
   "metadata": {
    "colab": {
     "base_uri": "https://localhost:8080/"
    },
    "id": "adi_Uo8szMHZ",
    "outputId": "657e8316-f814-484f-d2b6-71ebb52a462e"
   },
   "outputs": [
    {
     "data": {
      "text/plain": [
       "[('blue', 0.9822693467140198),\n",
       " ('today', 0.9719552993774414),\n",
       " ('beautiful', 0.9716638922691345),\n",
       " ('love', 0.5508386492729187),\n",
       " ('birds', 0.35300227999687195),\n",
       " ('chirp', 0.3018820583820343),\n",
       " ('sleep', 0.3017871677875519),\n",
       " ('dog', 0.2875940501689911),\n",
       " ('eat', 0.2850167453289032),\n",
       " ('cats', 0.263996958732605)]"
      ]
     },
     "execution_count": 17,
     "metadata": {},
     "output_type": "execute_result"
    }
   ],
   "source": [
    "w2v_model.wv.most_similar('sky')"
   ]
  },
  {
   "cell_type": "code",
   "execution_count": 18,
   "metadata": {
    "colab": {
     "base_uri": "https://localhost:8080/"
    },
    "id": "AqKFhpSkzO6a",
    "outputId": "98686d6c-39e2-4d6e-b3cb-38a7bff17c6a",
    "tags": []
   },
   "outputs": [
    {
     "data": {
      "text/plain": [
       "[('loves', 0.9754335284233093),\n",
       " ('cats', 0.9719014167785645),\n",
       " ('birds', 0.9696038365364075),\n",
       " ('chirp', 0.9636399149894714),\n",
       " ('sleep', 0.9545242190361023),\n",
       " ('eat', 0.9412879347801208),\n",
       " ('love', 0.9230731725692749),\n",
       " ('blue', 0.29506832361221313),\n",
       " ('beautiful', 0.2901352643966675),\n",
       " ('sky', 0.2875940799713135)]"
      ]
     },
     "execution_count": 18,
     "metadata": {},
     "output_type": "execute_result"
    }
   ],
   "source": [
    "w2v_model.wv.most_similar('dog')"
   ]
  }
 ],
 "metadata": {
  "colab": {
   "provenance": []
  },
  "kernelspec": {
   "display_name": "Python 3.9",
   "language": "python",
   "name": "python3"
  },
  "language_info": {
   "codemirror_mode": {
    "name": "ipython",
    "version": 3
   },
   "file_extension": ".py",
   "mimetype": "text/x-python",
   "name": "python",
   "nbconvert_exporter": "python",
   "pygments_lexer": "ipython3",
   "version": "3.9.18"
  }
 },
 "nbformat": 4,
 "nbformat_minor": 4
}
